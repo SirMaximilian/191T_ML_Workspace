{
 "cells": [
  {
   "cell_type": "code",
   "execution_count": 1,
   "source": [
    "inputs = [1, 2, 3, 2.5]\r\n",
    "weights1 = [0.2, 0.8, -0.5, 1]\r\n",
    "#weights2 = [0.5, -0.91, 0.26, -0.5]\r\n",
    "#weights3 = [-0.26, -0.27, 0.17, 0.87]\r\n",
    "bias1 = 2\r\n",
    "bias2 = 3\r\n",
    "bias3 = 0.5\r\n",
    "outputs = [\r\n",
    "# Neuron 1:\r\n",
    "inputs[0]*weights1[0] +\r\n",
    "inputs[1]*weights1[1] +\r\n",
    "inputs[2]*weights1[2] +\r\n",
    "inputs[3]*weights1[3] + bias1\r\n",
    "# # Neuron 2:\r\n",
    "# inputs[0]*weights2[0] +\r\n",
    "# inputs[1]*weights2[1] +\r\n",
    "# inputs[2]*weights2[2] +\r\n",
    "# inputs[3]*weights2[3] + bias2,\r\n",
    "# # Neuron 3:\r\n",
    "# inputs[0]*weights3[0] +\r\n",
    "# inputs[1]*weights3[1] +\r\n",
    "# inputs[2]*weights3[2] +\r\n",
    "# inputs[3]*weights3[3] + bias3\r\n",
    "]\r\n",
    "print(outputs)"
   ],
   "outputs": [
    {
     "output_type": "stream",
     "name": "stdout",
     "text": [
      "[4.8]\n"
     ]
    }
   ],
   "metadata": {}
  },
  {
   "cell_type": "code",
   "execution_count": 2,
   "source": [
    "inputs = [1, 2, 3, 2.5]\r\n",
    "weights = [[0.2, 0.8, -0.5, 1],\r\n",
    "[0.5, -0.91, 0.26, -0.5],\r\n",
    "[-0.26, -0.27, 0.17, 0.87]]\r\n",
    "biases = [2, 3, 0.5]\r\n",
    "# Output of current layer\r\n",
    "layer_outputs = []\r\n",
    "# For each neuron\r\n",
    "for neuron_weights, neuron_bias in zip(weights, biases):\r\n",
    "    # Zeroed output of given neuron\r\n",
    "    neuron_output = 0\r\n",
    "    # For each input and weight to the neuron\r\n",
    "    for n_input, weight in zip(inputs, neuron_weights):\r\n",
    "        # Multiply this input by associated weight\r\n",
    "        # and add to the neuron's output variable\r\n",
    "        neuron_output += n_input*weight\r\n",
    "        # Add bias\r\n",
    "    neuron_output += neuron_bias\r\n",
    "    # Put neuron's result to the layer's output list\r\n",
    "    layer_outputs.append(neuron_output)\r\n",
    "print(layer_outputs)"
   ],
   "outputs": [
    {
     "output_type": "stream",
     "name": "stdout",
     "text": [
      "[4.8, 1.21, 2.385]\n"
     ]
    }
   ],
   "metadata": {}
  }
 ],
 "metadata": {
  "orig_nbformat": 4,
  "language_info": {
   "name": "python",
   "version": "3.9.6",
   "mimetype": "text/x-python",
   "codemirror_mode": {
    "name": "ipython",
    "version": 3
   },
   "pygments_lexer": "ipython3",
   "nbconvert_exporter": "python",
   "file_extension": ".py"
  },
  "kernelspec": {
   "name": "python3",
   "display_name": "Python 3.9.6 64-bit ('191T_py3': venv)"
  },
  "interpreter": {
   "hash": "58dc188af903f85495c8c8ba2d08d4f5901f4034aea6d9dbb2f8641074b88212"
  }
 },
 "nbformat": 4,
 "nbformat_minor": 2
}