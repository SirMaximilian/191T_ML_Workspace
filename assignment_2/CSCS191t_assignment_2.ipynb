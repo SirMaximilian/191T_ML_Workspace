{
 "cells": [
  {
   "cell_type": "code",
   "execution_count": 1,
   "metadata": {},
   "outputs": [],
   "source": [
    "import numpy as np\n",
    "\n",
    "w1 = [3.19304864, 9.93278091, -4.74659947]\n",
    "w2 = [-1.59451474, 9.97879746, 4.47953684]\n",
    "V1 = [0.32620883, -8.71647388, 8.39004239]\n",
    "X = [ [1,0,0], [1,0,1], [1,1,0], [1,1,1] ]\n",
    "X1 = [1,0,0]\n",
    "\n",
    "sig = lambda y : 1/(1+np.exp(-y))\n",
    "dsig = lambda y : sig(y) * (1-sig(y))"
   ]
  },
  {
   "cell_type": "markdown",
   "metadata": {},
   "source": [
    "# Forward Propagation"
   ]
  },
  {
   "cell_type": "code",
   "execution_count": 2,
   "metadata": {},
   "outputs": [
    {
     "name": "stdout",
     "output_type": "stream",
     "text": [
      "[[ 3.19304864 -1.59451474]\n",
      " [-1.55355083  2.8850221 ]\n",
      " [13.12582955  8.38428272]\n",
      " [ 8.37923008 12.86381956]]\n",
      "[[1.         0.96057185 0.16874965]\n",
      " [1.         0.17457401 0.94710104]\n",
      " [1.         0.99999801 0.99977162]\n",
      " [1.         0.99977047 0.99999741]]\n"
     ]
    }
   ],
   "source": [
    "inputs = X\n",
    "weights = [w1,w2]\n",
    "zlayerout = np.dot(inputs, np.array(weights).T)\n",
    "print(zlayerout)\n",
    "\n",
    "#apply sig function to ouputs\n",
    "for row, sample in enumerate(zlayerout):\n",
    "    for col, w in enumerate(sample):\n",
    "        zlayerout[row][col] = sig(w)\n",
    "\n",
    "zlayerout = np.insert(zlayerout, 0, 1., axis=1)\n",
    "print(zlayerout)"
   ]
  },
  {
   "cell_type": "code",
   "execution_count": 3,
   "metadata": {},
   "outputs": [
    {
     "name": "stdout",
     "output_type": "stream",
     "text": [
      "[-6.63077383e+00  6.75075691e+00 -2.12138330e-03  1.75633574e-03]\n"
     ]
    }
   ],
   "source": [
    "weights = V1\n",
    "Youtput = np.dot(zlayerout, np.array(weights).T)\n",
    "print(Youtput)"
   ]
  },
  {
   "cell_type": "markdown",
   "metadata": {},
   "source": [
    "# Back Propagation"
   ]
  },
  {
   "cell_type": "code",
   "execution_count": null,
   "metadata": {},
   "outputs": [],
   "source": [
    "training_data = [((0,0),0),((0,1),1),((1,0),1),((1,1),0)]\n",
    "# X = [[1,0,0], [1,0,1], [1,1,0], [1,1,1]]\n",
    "Y_training = [0, 1, 1, 0] \n"
   ]
  }
 ],
 "metadata": {
  "interpreter": {
   "hash": "58dc188af903f85495c8c8ba2d08d4f5901f4034aea6d9dbb2f8641074b88212"
  },
  "kernelspec": {
   "display_name": "Python 3.9.6 64-bit ('191T_py3': venv)",
   "language": "python",
   "name": "python3"
  },
  "language_info": {
   "codemirror_mode": {
    "name": "ipython",
    "version": 3
   },
   "file_extension": ".py",
   "mimetype": "text/x-python",
   "name": "python",
   "nbconvert_exporter": "python",
   "pygments_lexer": "ipython3",
   "version": "3.9.6"
  },
  "orig_nbformat": 4
 },
 "nbformat": 4,
 "nbformat_minor": 2
}
