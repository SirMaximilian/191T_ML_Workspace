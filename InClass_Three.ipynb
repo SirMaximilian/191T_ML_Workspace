{
 "cells": [
  {
   "cell_type": "code",
   "execution_count": 21,
   "metadata": {},
   "outputs": [],
   "source": [
    "import numpy as np\n",
    "\n",
    "w1 = [3.19304864, 9.93278091, -4.74659947]\n",
    "w2 = [-1.59451474, 9.97879746, 4.47953684]\n",
    "V1 = [0.32620883, -8.71647388, 8.39004239]\n",
    "X = [ [1,0,0], [1,0,1], [1,1,0], [1,1,1] ]\n",
    "X1 = [1,0,0]\n",
    "\n",
    "sig = lambda y : 1/(1+np.exp(-y))"
   ]
  },
  {
   "cell_type": "markdown",
   "metadata": {},
   "source": [
    "forward propagation using nuerons\n",
    "\n",
    "one input is processed at a time  "
   ]
  },
  {
   "cell_type": "code",
   "execution_count": 10,
   "metadata": {},
   "outputs": [
    {
     "name": "stdout",
     "output_type": "stream",
     "text": [
      "[1, 3.19304864, -1.59451474]\n",
      "[1, 0.9605718456066229, 0.16874965243320605]\n"
     ]
    }
   ],
   "source": [
    "Z = [\n",
    "1,# hard coded 1\n",
    "# Neuron 1:\n",
    "X1[0]*w1[0] +\n",
    "X1[1]*w1[1] +\n",
    "X1[2]*w1[2],\n",
    "# Neuron 2:\n",
    "X1[0]*w2[0] +\n",
    "X1[1]*w2[1] +\n",
    "X1[2]*w2[2]\n",
    "]\n",
    "\n",
    "print(Z)\n",
    "Z = [1,sig(Z[1]),sig(Z[2])]\n",
    "print(Z)"
   ]
  },
  {
   "cell_type": "code",
   "execution_count": 11,
   "metadata": {},
   "outputs": [
    {
     "name": "stdout",
     "output_type": "stream",
     "text": [
      "-6.630773834881156\n",
      "0.0013174040500717125\n"
     ]
    }
   ],
   "source": [
    "# Y output Neuron 1:\n",
    "\n",
    "Y = Z[0]*V1[0] + Z[1]*V1[1] + Z[2]*V1[2]\n",
    "\n",
    "print(Y)\n",
    "Y = sig(Y)\n",
    "print(Y)"
   ]
  },
  {
   "cell_type": "markdown",
   "metadata": {},
   "source": [
    "Perform forward propagation using matrices\n",
    "\n",
    "multipe input or samples are calculated in one go"
   ]
  },
  {
   "cell_type": "code",
   "execution_count": 26,
   "metadata": {},
   "outputs": [
    {
     "name": "stdout",
     "output_type": "stream",
     "text": [
      "[[ 3.19304864 -1.59451474]\n",
      " [-1.55355083  2.8850221 ]\n",
      " [13.12582955  8.38428272]\n",
      " [ 8.37923008 12.86381956]]\n",
      "[[1.         0.96057185 0.16874965]\n",
      " [1.         0.17457401 0.94710104]\n",
      " [1.         0.99999801 0.99977162]\n",
      " [1.         0.99977047 0.99999741]]\n"
     ]
    }
   ],
   "source": [
    "inputs = X\n",
    "weights = [w1,w2]\n",
    "zlayerout = np.dot(inputs, np.array(weights).T)\n",
    "print(zlayerout)\n",
    "\n",
    "#apply sig function to ouputs\n",
    "for row, sample in enumerate(zlayerout):\n",
    "    for col, w in enumerate(sample):\n",
    "        zlayerout[row][col] = sig(w)\n",
    "\n",
    "zlayerout = np.insert(zlayerout, 0, 1., axis=1)\n",
    "print(zlayerout)"
   ]
  },
  {
   "cell_type": "code",
   "execution_count": 27,
   "metadata": {},
   "outputs": [
    {
     "name": "stdout",
     "output_type": "stream",
     "text": [
      "[-6.63077383e+00  6.75075691e+00 -2.12138330e-03  1.75633574e-03]\n"
     ]
    }
   ],
   "source": [
    "weights = V1\n",
    "\n",
    "Youtput = np.dot(zlayerout, np.array(weights).T)\n",
    "print(Youtput)"
   ]
  }
 ],
 "metadata": {
  "interpreter": {
   "hash": "58dc188af903f85495c8c8ba2d08d4f5901f4034aea6d9dbb2f8641074b88212"
  },
  "kernelspec": {
   "display_name": "Python 3.9.6 64-bit ('191T_py3': venv)",
   "name": "python3"
  },
  "language_info": {
   "codemirror_mode": {
    "name": "ipython",
    "version": 3
   },
   "file_extension": ".py",
   "mimetype": "text/x-python",
   "name": "python",
   "nbconvert_exporter": "python",
   "pygments_lexer": "ipython3",
   "version": "3.9.6"
  },
  "orig_nbformat": 4
 },
 "nbformat": 4,
 "nbformat_minor": 2
}
