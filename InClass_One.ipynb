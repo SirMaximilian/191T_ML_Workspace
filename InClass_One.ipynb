{
    "cells": [
        {
            "cell_type": "code",
            "execution_count": 1,
            "source": [
                "### Includes\r\n",
                "%matplotlib inline\r\n",
                "import matplotlib.pyplot as plt\r\n",
                "\r\n",
                "Weights = [5, 2] # F(X) = 5x_0 + 2x_1\r\n",
                "F = lambda W, X: sum([w*x for w,x in zip(W,X)])\r\n",
                "\r\n",
                "dataX1 = range(-2, 11, 1)\r\n",
                "dataX0 = [1]*len(dataX1)\r\n",
                "\r\n",
                "data = (list(zip(dataX0, dataX1)))\r\n",
                "print (data)\r\n",
                "Y = [F(Weights, X) for X in data]\r\n",
                "print (Y)\r\n",
                "\r\n"
            ],
            "outputs": [
                {
                    "output_type": "stream",
                    "name": "stdout",
                    "text": [
                        "[(1, -2), (1, -1), (1, 0), (1, 1), (1, 2), (1, 3), (1, 4), (1, 5), (1, 6), (1, 7), (1, 8), (1, 9), (1, 10)]\n",
                        "[1, 3, 5, 7, 9, 11, 13, 15, 17, 19, 21, 23, 25]\n"
                    ]
                }
            ],
            "metadata": {}
        },
        {
            "cell_type": "code",
            "execution_count": 2,
            "source": [
                "TrainingData1 = zip(data, Y)\r\n",
                "\r\n",
                "print (list(TrainingData1))"
            ],
            "outputs": [
                {
                    "output_type": "stream",
                    "name": "stdout",
                    "text": [
                        "[((1, -2), 1), ((1, -1), 3), ((1, 0), 5), ((1, 1), 7), ((1, 2), 9), ((1, 3), 11), ((1, 4), 13), ((1, 5), 15), ((1, 6), 17), ((1, 7), 19), ((1, 8), 21), ((1, 9), 23), ((1, 10), 25)]\n"
                    ]
                }
            ],
            "metadata": {}
        },
        {
            "cell_type": "code",
            "execution_count": 3,
            "source": [
                "## Add Noise\r\n",
                "import random\r\n",
                "import numpy as np\r\n",
                "EPS = 30\r\n",
                "yNoise = [round(y+random.random()*EPS-EPS/2,2) for y in Y]\r\n",
                "TrainingData2 = zip(data, yNoise)\r\n",
                "print(list(TrainingData2))\r\n",
                "\r\n",
                "plt.plot(dataX1, Y, \"g\")\r\n",
                "plt.plot(dataX1, yNoise, \"g+\")\r\n",
                "plt.show()"
            ],
            "outputs": [
                {
                    "output_type": "stream",
                    "name": "stdout",
                    "text": [
                        "[((1, -2), 6.49), ((1, -1), -0.65), ((1, 0), 7.17), ((1, 1), -4.85), ((1, 2), 19.8), ((1, 3), 8.27), ((1, 4), 21.94), ((1, 5), 15.75), ((1, 6), 30.92), ((1, 7), 18.15), ((1, 8), 30.28), ((1, 9), 37.87), ((1, 10), 19.47)]\n"
                    ]
                },
                {
                    "output_type": "display_data",
                    "data": {
                        "image/png": "[encoded data removed]",
                        "text/plain": [
                            "<Figure size 432x288 with 1 Axes>"
                        ]
                    },
                    "metadata": {
                        "needs_background": "light"
                    }
                }
            ],
            "metadata": {}
        },
        {
            "cell_type": "code",
            "execution_count": 4,
            "source": [
                "data = [((1, -2), 1), ((1, -1), 3), ((1, 0), 5), ((1, 1), 7), ((1, 2), 9), ((1, 3), 11), ((1, 4), 13), ((1, 5), 15), ((1, 6), 17), ((1, 7), 19), ((1, 8), 21), ((1, 9), 23), ((1, 10), 25)]\r\n",
                "#print(data)\r\n",
                "X = [d for d,_ in data]\r\n",
                "Y = [y for _, y in data]\r\n",
                "\r\n",
                "alpha=0.01\r\n",
                "model=[0, 0]\r\n",
                "Errors = []"
            ],
            "outputs": [],
            "metadata": {}
        },
        {
            "cell_type": "code",
            "execution_count": 21,
            "source": [
                "yPredicted = [F(model, x) for x in X]\r\n",
                "#print(yPredicted)\r\n",
                "\r\n",
                "# Evaluate Model\r\n",
                "Error = sum([(r-y)**2.0 for r,y in zip(Y, yPredicted)])\r\n",
                "# Evaluate Model\r\n",
                "Error = sum([(r-y)**2.0 for r,y in zip(Y, yPredicted)])\r\n",
                "print(\"With Model=\", model, \"Error=\", Error)\r\n",
                "Errors.append([model, Error])\r\n",
                "print (\"History w/ Alpha=\", alpha, \"=\")\r\n",
                "print (Errors)\r\n",
                "print(\"Next\")\r\n",
                "for i in range(len(Errors)):\r\n",
                "  print(\"Iterations=\",i+1,\":=\",Errors[i])\r\n",
                "\r\n",
                "#weight trainig \r\n",
                "deltaX0 = 1/len(Y)*sum( [(-2*(r-y)*x[0]) for r,y,x in zip(Y, yPredicted, X)] )\r\n",
                "deltaX1 = 1/len(Y)*sum( [(-2*(r-y)*x[1]) for r,y,x in zip(Y, yPredicted, X)] )\r\n",
                "\r\n",
                "#print(deltaX0)\r\n",
                "#print(deltaX1)\r\n",
                "model = [model[0]-alpha*deltaX0, model[1]-alpha*deltaX1]\r\n",
                "print(model)"
            ],
            "outputs": [
                {
                    "output_type": "stream",
                    "name": "stdout",
                    "text": [
                        "With Model= [0.764535362303952, 2.5732780816433167] Error= 108.85941462527283\n",
                        "History w/ Alpha= 0.01 =\n",
                        "[[[0, 0], 2925.0], [[0.26, 1.6], 551.6628], [[0.38680000000000003, 2.2192], 190.23375696000002], [[0.46152800000000005, 2.456736], 133.547608044864], [[0.5157585600000001, 2.54577216], 123.05079433117587], [[0.5617816160000001, 2.5770481792], 119.58431886158289], [[0.604382129344, 2.5858767424], 117.21685237894025], [[0.64542434736512, 2.58600012661248], 115.04946044688809], [[0.6856358502888192, 2.5827661028557825], 112.94538425067927], [[0.7253018450545803, 2.5782555731192076], 110.88330888959752], [[0.764535362303952, 2.5732780816433167], 108.85941462527283]]\n",
                        "Next\n",
                        "Iterations= 1 := [[0, 0], 2925.0]\n",
                        "Iterations= 2 := [[0.26, 1.6], 551.6628]\n",
                        "Iterations= 3 := [[0.38680000000000003, 2.2192], 190.23375696000002]\n",
                        "Iterations= 4 := [[0.46152800000000005, 2.456736], 133.547608044864]\n",
                        "Iterations= 5 := [[0.5157585600000001, 2.54577216], 123.05079433117587]\n",
                        "Iterations= 6 := [[0.5617816160000001, 2.5770481792], 119.58431886158289]\n",
                        "Iterations= 7 := [[0.604382129344, 2.5858767424], 117.21685237894025]\n",
                        "Iterations= 8 := [[0.64542434736512, 2.58600012661248], 115.04946044688809]\n",
                        "Iterations= 9 := [[0.6856358502888192, 2.5827661028557825], 112.94538425067927]\n",
                        "Iterations= 10 := [[0.7253018450545803, 2.5782555731192076], 110.88330888959752]\n",
                        "Iterations= 11 := [[0.764535362303952, 2.5732780816433167], 108.85941462527283]\n",
                        "[0.8033824085264076, 2.5681484036730104]\n"
                    ]
                }
            ],
            "metadata": {}
        },
        {
            "cell_type": "code",
            "execution_count": 22,
            "source": [
                "\r\n",
                "dataX1 = [x[1] for x, y in data]\r\n",
                "plt.plot(dataX1, yPredicted, \"g\")\r\n",
                "plt.plot(dataX1, Y, \"g+\")\r\n",
                "plt.show()"
            ],
            "outputs": [
                {
                    "output_type": "display_data",
                    "data": {
                        "image/png": "[encoded data removed]",
                        "text/plain": [
                            "<Figure size 432x288 with 1 Axes>"
                        ]
                    },
                    "metadata": {
                        "needs_background": "light"
                    }
                }
            ],
            "metadata": {}
        },
        {
            "cell_type": "code",
            "execution_count": 1,
            "source": [
                "import torch\r\n",
                "import torchvision\r\n",
                "from torchvision import transforms , datasets\r\n",
                "import torch.nn as nn\r\n",
                "import torch.nn.functional as F\r\n",
                "import torch.optim as optim\r\n",
                "from torchsummary import summary # for model summary\r\n",
                "import matplotlib.pyplot as plt # for ploting our data and showing images\r\n",
                "\r\n",
                "class NetModel(nn.Module):\r\n",
                "    def __init__(self):\r\n",
                "        super().__init__()\r\n",
                "        self.fc1 = nn.Linear(2, 3)\r\n",
                "        self.fc2 = nn.Linear(3, 1)\r\n",
                "        #self.fc3 = nn.Linear(64, 64)\r\n",
                "        #self.fc4 = nn.Linear(64, 10)\r\n",
                "            \r\n",
                "    def forward(self,x):\r\n",
                "        x = F.relu(self.fc1(x))\r\n",
                "        x = self.fc2(x)\r\n",
                "        return x\r\n",
                "        #x = F.relu(self.fc3(x))\r\n",
                "        #x = self.fc4(x)\r\n",
                "        #return F.log_softmax(x, dim = 1)\r\n",
                "\r\n",
                "#run model on gpu\r\n",
                "device = torch.device(\"cuda\") \r\n",
                "myModel = NetModel().to(device)"
            ],
            "outputs": [],
            "metadata": {}
        },
        {
            "cell_type": "code",
            "execution_count": 3,
            "source": [
                "# display the componets of the model\r\n",
                "#print(myModel) # simple but crappy \r\n",
                "summary(myModel, input_size = (1,2) ) # nice"
            ],
            "outputs": [
                {
                    "output_type": "stream",
                    "name": "stdout",
                    "text": [
                        "----------------------------------------------------------------\n",
                        "        Layer (type)               Output Shape         Param #\n",
                        "================================================================\n",
                        "            Linear-1                 [-1, 1, 3]               9\n",
                        "            Linear-2                 [-1, 1, 1]               4\n",
                        "================================================================\n",
                        "Total params: 13\n",
                        "Trainable params: 13\n",
                        "Non-trainable params: 0\n",
                        "----------------------------------------------------------------\n",
                        "Input size (MB): 0.00\n",
                        "Forward/backward pass size (MB): 0.00\n",
                        "Params size (MB): 0.00\n",
                        "Estimated Total Size (MB): 0.00\n",
                        "----------------------------------------------------------------\n"
                    ]
                }
            ],
            "metadata": {}
        },
        {
            "cell_type": "code",
            "execution_count": 4,
            "source": [
                "test_input = torch.rand(2).to(device)\r\n",
                "test_input = test_input.view(-1,2)\r\n",
                "output = myModel(test_input)\r\n",
                "\r\n",
                "print(output)"
            ],
            "outputs": [
                {
                    "output_type": "stream",
                    "name": "stdout",
                    "text": [
                        "tensor([[0.3069]], device='cuda:0', grad_fn=<AddmmBackward>)\n"
                    ]
                }
            ],
            "metadata": {}
        },
        {
            "cell_type": "code",
            "execution_count": null,
            "source": [
                "#train\r\n",
                "optimizer = optim.Adam(myModel.parameters(), lr = 0.0001)\r\n",
                "EPOCHS = 3 # how many time to iterate over our whole training set\r\n",
                "\r\n",
                "for epoch in range(EPOCHS):\r\n",
                "    for data in trainset:\r\n",
                "        data_images_batch, data_labels_batch = data\r\n",
                "        myModel.zero_grad() # zero our accumilated gradients\r\n",
                "        batch_output = myModel(data_images_batch.view(-1,28*28).to(device))\r\n",
                "        loss = F.nll_loss(batch_output, data_labels_batch.to(device))\r\n",
                "        loss.backward()\r\n",
                "        optimizer.step()\r\n",
                "    print(loss)"
            ],
            "outputs": [],
            "metadata": {}
        },
        {
            "cell_type": "code",
            "execution_count": null,
            "source": [
                "#eval\r\n",
                "correct = 0 \r\n",
                "total = 0\r\n",
                "\r\n",
                "with torch.no_grad():\r\n",
                "    for data in testset:\r\n",
                "        test_images_batch, test_labels_batch = data\r\n",
                "        batch_output = myModel(test_images_batch.view(-1,28*28).to(device))\r\n",
                "        for idx, i in enumerate(batch_output):\r\n",
                "            if torch.argmax(i) == test_labels_batch[idx]:\r\n",
                "                correct += 1\r\n",
                "            total += 1\r\n",
                "            \r\n",
                "print(\"Accuracy: \", round(correct/total,3))"
            ],
            "outputs": [],
            "metadata": {}
        }
    ],
    "metadata": {
        "orig_nbformat": 4,
        "language_info": {
            "name": "python",
            "version": "3.9.6",
            "mimetype": "text/x-python",
            "codemirror_mode": {
                "name": "ipython",
                "version": 3
            },
            "pygments_lexer": "ipython3",
            "nbconvert_exporter": "python",
            "file_extension": ".py"
        },
        "kernelspec": {
            "name": "python3",
            "display_name": "Python 3.9.6 64-bit ('191T_py3': venv)"
        },
        "interpreter": {
            "hash": "58dc188af903f85495c8c8ba2d08d4f5901f4034aea6d9dbb2f8641074b88212"
        }
    },
    "nbformat": 4,
    "nbformat_minor": 2
}