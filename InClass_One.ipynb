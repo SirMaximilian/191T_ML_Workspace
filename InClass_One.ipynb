{
    "cells": [
        {
            "cell_type": "code",
            "execution_count": 2,
            "metadata": {},
            "outputs": [
                {
                    "name": "stdout",
                    "output_type": "stream",
                    "text": [
                        "[(1, -2), (1, -1), (1, 0), (1, 1), (1, 2), (1, 3), (1, 4), (1, 5), (1, 6), (1, 7), (1, 8), (1, 9), (1, 10)]\n",
                        "[1, 3, 5, 7, 9, 11, 13, 15, 17, 19, 21, 23, 25]\n"
                    ]
                }
            ],
            "source": [
                "### Includes\n",
                "%matplotlib inline\n",
                "import matplotlib.pyplot as plt\n",
                "\n",
                "Weights = [5, 2] # F(X) = 5x_0 + 2x_1\n",
                "F = lambda W, X: sum([w*x for w,x in zip(W,X)])\n",
                "\n",
                "dataX1 = range(-2, 11, 1)\n",
                "dataX0 = [1]*len(dataX1)\n",
                "\n",
                "data = (list(zip(dataX0, dataX1)))\n",
                "print (data)\n",
                "Y = [F(Weights, X) for X in data]\n",
                "print (Y)\n",
                "\n"
            ]
        },
        {
            "cell_type": "code",
            "execution_count": 3,
            "metadata": {},
            "outputs": [
                {
                    "name": "stdout",
                    "output_type": "stream",
                    "text": [
                        "[((1, -2), 1), ((1, -1), 3), ((1, 0), 5), ((1, 1), 7), ((1, 2), 9), ((1, 3), 11), ((1, 4), 13), ((1, 5), 15), ((1, 6), 17), ((1, 7), 19), ((1, 8), 21), ((1, 9), 23), ((1, 10), 25)]\n"
                    ]
                }
            ],
            "source": [
                "TrainingData1 = zip(data, Y)\n",
                "\n",
                "print (list(TrainingData1))"
            ]
        },
        {
            "cell_type": "code",
            "execution_count": 4,
            "metadata": {},
            "outputs": [
                {
                    "name": "stdout",
                    "output_type": "stream",
                    "text": [
                        "[((1, -2), -2.75), ((1, -1), 11.57), ((1, 0), 2.22), ((1, 1), 19.18), ((1, 2), 23.66), ((1, 3), 14.04), ((1, 4), 25.65), ((1, 5), 19.64), ((1, 6), 29.31), ((1, 7), 25.49), ((1, 8), 22.35), ((1, 9), 37.1), ((1, 10), 22.57)]\n"
                    ]
                },
                {
                    "data": {
                        "image/png": "[encoded data removed]",
                        "text/plain": [
                            "<Figure size 432x288 with 1 Axes>"
                        ]
                    },
                    "metadata": {
                        "needs_background": "light"
                    },
                    "output_type": "display_data"
                }
            ],
            "source": [
                "## Add Noise\n",
                "import random\n",
                "import numpy as np\n",
                "EPS = 30\n",
                "yNoise = [round(y+random.random()*EPS-EPS/2,2) for y in Y]\n",
                "TrainingData2 = zip(data, yNoise)\n",
                "print(list(TrainingData2))\n",
                "\n",
                "plt.plot(dataX1, Y, \"g\")\n",
                "plt.plot(dataX1, yNoise, \"g+\")\n",
                "plt.show()"
            ]
        },
        {
            "cell_type": "code",
            "execution_count": 31,
            "metadata": {},
            "outputs": [],
            "source": [
                "data = [((1, -2), 1), ((1, -1), 3), ((1, 0), 5), ((1, 1), 7), ((1, 2), 9), ((1, 3), 11), ((1, 4), 13), ((1, 5), 15), ((1, 6), 17), ((1, 7), 19), ((1, 8), 21), ((1, 9), 23), ((1, 10), 25)]\n",
                "#print(data)\n",
                "X = [d for d,_ in data]\n",
                "Y = [y for _, y in data]\n",
                "\n",
                "alpha=0.01\n",
                "model=[0, 0]\n",
                "Errors = []"
            ]
        },
        {
            "cell_type": "code",
            "execution_count": 6,
            "metadata": {},
            "outputs": [
                {
                    "name": "stdout",
                    "output_type": "stream",
                    "text": [
                        "With Model= [0, 0] Error= 2925.0\n",
                        "History w/ Alpha= 0.01 =\n",
                        "[[[0, 0], 2925.0]]\n",
                        "Next\n",
                        "Iterations= 1 := [[0, 0], 2925.0]\n",
                        "[0.26, 1.6]\n"
                    ]
                }
            ],
            "source": [
                "yPredicted = [F(model, x) for x in X]\n",
                "#print(yPredicted)\n",
                "\n",
                "# Evaluate Model\n",
                "Error = sum([(r-y)**2.0 for r,y in zip(Y, yPredicted)])\n",
                "print(\"With Model=\", model, \"Error=\", Error)\n",
                "Errors.append([model, Error])\n",
                "print (\"History w/ Alpha=\", alpha, \"=\")\n",
                "print (Errors)\n",
                "print(\"Next\")\n",
                "for i in range(len(Errors)):\n",
                "  print(\"Iterations=\",i+1,\":=\",Errors[i])\n",
                "\n",
                "#weight trainig \n",
                "deltaX0 = 1/len(Y)*sum( [(-2*(r-y)*x[0]) for r,y,x in zip(Y, yPredicted, X)] )\n",
                "deltaX1 = 1/len(Y)*sum( [(-2*(r-y)*x[1]) for r,y,x in zip(Y, yPredicted, X)] )\n",
                "\n",
                "#print(deltaX0)\n",
                "#print(deltaX1)\n",
                "model = [model[0]-alpha*deltaX0, model[1]-alpha*deltaX1]\n",
                "print(model)"
            ]
        },
        {
            "cell_type": "code",
            "execution_count": 7,
            "metadata": {},
            "outputs": [
                {
                    "data": {
                        "image/png": "[encoded data removed]",
                        "text/plain": [
                            "<Figure size 432x288 with 1 Axes>"
                        ]
                    },
                    "metadata": {
                        "needs_background": "light"
                    },
                    "output_type": "display_data"
                }
            ],
            "source": [
                "\n",
                "dataX1 = [x[1] for x, y in data]\n",
                "plt.plot(dataX1, yPredicted, \"g\")\n",
                "plt.plot(dataX1, Y, \"g+\")\n",
                "plt.show()"
            ]
        },
        {
            "cell_type": "code",
            "execution_count": 8,
            "metadata": {},
            "outputs": [],
            "source": [
                "import torch\n",
                "import torchvision\n",
                "from torchvision import transforms , datasets\n",
                "import torch.nn as nn\n",
                "import torch.nn.functional as F\n",
                "import torch.optim as optim\n",
                "from torchsummary import summary # for model summary\n",
                "import matplotlib.pyplot as plt # for ploting our data and showing images\n",
                "\n",
                "class NetModel(nn.Module):\n",
                "    def __init__(self):\n",
                "        super().__init__()\n",
                "        self.fc1 = nn.Linear(2, 3)\n",
                "        self.fc2 = nn.Linear(3, 1)\n",
                "        #self.fc3 = nn.Linear(64, 64)\n",
                "        #self.fc4 = nn.Linear(64, 10)\n",
                "            \n",
                "    def forward(self,x):\n",
                "        x = F.relu(self.fc1(x))\n",
                "        x = self.fc2(x)\n",
                "        return x\n",
                "        #x = F.relu(self.fc3(x))\n",
                "        #x = self.fc4(x)\n",
                "        #return F.log_softmax(x, dim = 1)\n",
                "\n",
                "#run model on gpu\n",
                "device = torch.device(\"cuda\") \n",
                "myModel = NetModel().to(device)"
            ]
        },
        {
            "cell_type": "code",
            "execution_count": 9,
            "metadata": {},
            "outputs": [
                {
                    "name": "stdout",
                    "output_type": "stream",
                    "text": [
                        "----------------------------------------------------------------\n",
                        "        Layer (type)               Output Shape         Param #\n",
                        "================================================================\n",
                        "            Linear-1                 [-1, 1, 3]               9\n",
                        "            Linear-2                 [-1, 1, 1]               4\n",
                        "================================================================\n",
                        "Total params: 13\n",
                        "Trainable params: 13\n",
                        "Non-trainable params: 0\n",
                        "----------------------------------------------------------------\n",
                        "Input size (MB): 0.00\n",
                        "Forward/backward pass size (MB): 0.00\n",
                        "Params size (MB): 0.00\n",
                        "Estimated Total Size (MB): 0.00\n",
                        "----------------------------------------------------------------\n"
                    ]
                }
            ],
            "source": [
                "# display the componets of the model\n",
                "#print(myModel) # simple but crappy \n",
                "summary(myModel, input_size = (1,2) ) # nice"
            ]
        },
        {
            "cell_type": "code",
            "execution_count": 13,
            "metadata": {},
            "outputs": [
                {
                    "name": "stdout",
                    "output_type": "stream",
                    "text": [
                        "tensor([[-0.1002]], device='cuda:0', grad_fn=<AddmmBackward>)\n"
                    ]
                }
            ],
            "source": [
                "test_input = torch.rand(2).to(device)\n",
                "test_input = test_input.view(-1,2)\n",
                "output = myModel(test_input)\n",
                "\n",
                "\n",
                "print(output)"
            ]
        },
        {
            "cell_type": "code",
            "execution_count": 35,
            "metadata": {},
            "outputs": [
                {
                    "name": "stdout",
                    "output_type": "stream",
                    "text": [
                        "[((1, -2), 1), ((1, -1), 3), ((1, 0), 5), ((1, 1), 7), ((1, 2), 9), ((1, 3), 11), ((1, 4), 13), ((1, 5), 15), ((1, 6), 17), ((1, 7), 19), ((1, 8), 21), ((1, 9), 23), ((1, 10), 25)]\n"
                    ]
                }
            ],
            "source": [
                "print(data)\n",
                "#[np.array([list(x) for x,y in data]),np.array([y for x,y in data])]\n",
                "trainset = np.array([[x[0],x[1],y] for x,y in data])"
            ]
        },
        {
            "cell_type": "code",
            "execution_count": 44,
            "metadata": {},
            "outputs": [
                {
                    "name": "stdout",
                    "output_type": "stream",
                    "text": [
                        "<class 'numpy.ndarray'>\n"
                    ]
                },
                {
                    "ename": "ValueError",
                    "evalue": "Type must be a sub-type of ndarray type",
                    "output_type": "error",
                    "traceback": [
                        "\u001b[1;31m---------------------------------------------------------------------------\u001b[0m",
                        "\u001b[1;31mValueError\u001b[0m                                Traceback (most recent call last)",
                        "\u001b[1;32m~\\AppData\\Local\\Temp/ipykernel_2080/200656780.py\u001b[0m in \u001b[0;36m<module>\u001b[1;34m\u001b[0m\n\u001b[0;32m     10\u001b[0m         \u001b[0mprint\u001b[0m\u001b[1;33m(\u001b[0m\u001b[0mtype\u001b[0m\u001b[1;33m(\u001b[0m\u001b[0mdata_batch\u001b[0m\u001b[1;33m)\u001b[0m\u001b[1;33m)\u001b[0m\u001b[1;33m\u001b[0m\u001b[1;33m\u001b[0m\u001b[0m\n\u001b[0;32m     11\u001b[0m         \u001b[0mmyModel\u001b[0m\u001b[1;33m.\u001b[0m\u001b[0mzero_grad\u001b[0m\u001b[1;33m(\u001b[0m\u001b[1;33m)\u001b[0m \u001b[1;31m# zero our accumilated gradients\u001b[0m\u001b[1;33m\u001b[0m\u001b[1;33m\u001b[0m\u001b[0m\n\u001b[1;32m---> 12\u001b[1;33m         \u001b[0mbatch_output\u001b[0m \u001b[1;33m=\u001b[0m \u001b[0mmyModel\u001b[0m\u001b[1;33m(\u001b[0m\u001b[0mdata_batch\u001b[0m\u001b[1;33m.\u001b[0m\u001b[0mview\u001b[0m\u001b[1;33m(\u001b[0m\u001b[1;36m1\u001b[0m\u001b[1;33m,\u001b[0m\u001b[1;36m2\u001b[0m\u001b[1;33m)\u001b[0m\u001b[1;33m.\u001b[0m\u001b[0mto\u001b[0m\u001b[1;33m(\u001b[0m\u001b[0mdevice\u001b[0m\u001b[1;33m)\u001b[0m\u001b[1;33m)\u001b[0m\u001b[1;33m\u001b[0m\u001b[1;33m\u001b[0m\u001b[0m\n\u001b[0m\u001b[0;32m     13\u001b[0m         \u001b[0mloss\u001b[0m \u001b[1;33m=\u001b[0m \u001b[0mF\u001b[0m\u001b[1;33m.\u001b[0m\u001b[0mnll_loss\u001b[0m\u001b[1;33m(\u001b[0m\u001b[0mbatch_output\u001b[0m\u001b[1;33m,\u001b[0m \u001b[0mdata_labels_batch\u001b[0m\u001b[1;33m.\u001b[0m\u001b[0mto\u001b[0m\u001b[1;33m(\u001b[0m\u001b[0mdevice\u001b[0m\u001b[1;33m)\u001b[0m\u001b[1;33m)\u001b[0m\u001b[1;33m\u001b[0m\u001b[1;33m\u001b[0m\u001b[0m\n\u001b[0;32m     14\u001b[0m         \u001b[0mloss\u001b[0m\u001b[1;33m.\u001b[0m\u001b[0mbackward\u001b[0m\u001b[1;33m(\u001b[0m\u001b[1;33m)\u001b[0m\u001b[1;33m\u001b[0m\u001b[1;33m\u001b[0m\u001b[0m\n",
                        "\u001b[1;31mValueError\u001b[0m: Type must be a sub-type of ndarray type"
                    ]
                }
            ],
            "source": [
                "#train\n",
                "optimizer = optim.Adam(myModel.parameters(), lr = 0.0001)\n",
                "EPOCHS = 3 # how many time to iterate over our whole training set\n",
                "\n",
                "for epoch in range(EPOCHS):\n",
                "    for data in trainset:\n",
                "        #print(data)\n",
                "        data_batch, data_labels_batch = data[0:2],data[2]\n",
                "        #print(data_batch, data_labels_batch)\n",
                "        print(type(data_batch))\n",
                "        myModel.zero_grad() # zero our accumilated gradients\n",
                "        batch_output = myModel(data_batch.view(1,2).to(device))\n",
                "        loss = F.nll_loss(batch_output, data_labels_batch.to(device))\n",
                "        loss.backward()\n",
                "        optimizer.step()\n",
                "    print(loss)"
            ]
        },
        {
            "cell_type": "code",
            "execution_count": null,
            "metadata": {},
            "outputs": [],
            "source": [
                "#eval\n",
                "correct = 0 \n",
                "total = 0\n",
                "\n",
                "with torch.no_grad():\n",
                "    for data in testset:\n",
                "        test_images_batch, test_labels_batch = data\n",
                "        batch_output = myModel(test_images_batch.view(-1,28*28).to(device))\n",
                "        for idx, i in enumerate(batch_output):\n",
                "            if torch.argmax(i) == test_labels_batch[idx]:\n",
                "                correct += 1\n",
                "            total += 1\n",
                "            \n",
                "print(\"Accuracy: \", round(correct/total,3))"
            ]
        }
    ],
    "metadata": {
        "interpreter": {
            "hash": "58dc188af903f85495c8c8ba2d08d4f5901f4034aea6d9dbb2f8641074b88212"
        },
        "kernelspec": {
            "display_name": "Python 3.9.6 64-bit ('191T_py3': venv)",
            "name": "python3"
        },
        "language_info": {
            "codemirror_mode": {
                "name": "ipython",
                "version": 3
            },
            "file_extension": ".py",
            "mimetype": "text/x-python",
            "name": "python",
            "nbconvert_exporter": "python",
            "pygments_lexer": "ipython3",
            "version": "3.9.6"
        },
        "orig_nbformat": 4
    },
    "nbformat": 4,
    "nbformat_minor": 2
}
